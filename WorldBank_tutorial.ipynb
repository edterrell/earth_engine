{
 "cells": [
  {
   "cell_type": "markdown",
   "id": "abbfe519",
   "metadata": {},
   "source": [
    "https://worldbank.github.io/OpenNightLights/tutorials/mod2_6_practical_exercise-image_visualization.html"
   ]
  },
  {
   "cell_type": "code",
   "execution_count": 19,
   "id": "e13c370a",
   "metadata": {},
   "outputs": [
    {
     "data": {
      "text/plain": [
       "'/Users/edwardterrell/Desktop/Training/geemap'"
      ]
     },
     "execution_count": 19,
     "metadata": {},
     "output_type": "execute_result"
    }
   ],
   "source": [
    "pwd"
   ]
  },
  {
   "cell_type": "code",
   "execution_count": 1,
   "id": "45d6d6d1",
   "metadata": {},
   "outputs": [],
   "source": [
    "import geemap, ee"
   ]
  },
  {
   "cell_type": "code",
   "execution_count": 5,
   "id": "99c478cc",
   "metadata": {},
   "outputs": [
    {
     "name": "stdout",
     "output_type": "stream",
     "text": [
      "Enabling notebook extension jupyter-leaflet/extension...\r\n",
      "      - Validating: \u001b[32mOK\u001b[0m\r\n"
     ]
    }
   ],
   "source": [
    "!jupyter nbextension enable --py --sys-prefix ipyleaflet"
   ]
  },
  {
   "cell_type": "code",
   "execution_count": 2,
   "id": "fd0415c7",
   "metadata": {},
   "outputs": [],
   "source": [
    "try:\n",
    "        ee.Initialize()\n",
    "except Exception as e:\n",
    "        ee.Authenticate()\n",
    "        ee.Initialize()\n"
   ]
  },
  {
   "cell_type": "code",
   "execution_count": 4,
   "id": "73ad031d",
   "metadata": {},
   "outputs": [
    {
     "data": {
      "application/vnd.jupyter.widget-view+json": {
       "model_id": "882f431b230a4cd49f07ebd873b8eec3",
       "version_major": 2,
       "version_minor": 0
      },
      "text/plain": [
       "Map(center=[9.0, 7.4], controls=(WidgetControl(options=['position', 'transparent_bg'], widget=HBox(children=(T…"
      ]
     },
     "metadata": {},
     "output_type": "display_data"
    }
   ],
   "source": [
    "# set our initial map parameters for Abuja, Nigeria\n",
    "center_lat = 9.0\n",
    "center_lon = 7.4\n",
    "zoomlevel=6\n",
    "\n",
    "# initialize our map\n",
    "Map = geemap.Map(center=[center_lat,center_lon], zoom=zoomlevel)\n",
    "Map"
   ]
  },
  {
   "cell_type": "code",
   "execution_count": null,
   "id": "a548c7ec",
   "metadata": {},
   "outputs": [],
   "source": [
    "#Map.addLayer(landcover, {}, 'Land cover')"
   ]
  },
  {
   "cell_type": "code",
   "execution_count": 7,
   "id": "aa77d5e5",
   "metadata": {},
   "outputs": [],
   "source": [
    "dmsp92id = \"NOAA/DMSP-OLS/NIGHTTIME_LIGHTS/F101992\""
   ]
  },
  {
   "cell_type": "code",
   "execution_count": 10,
   "id": "32d259d3",
   "metadata": {},
   "outputs": [
    {
     "data": {
      "application/vnd.jupyter.widget-view+json": {
       "model_id": "fc3b75d8a1ae4c3c99674fc4e81c0c06",
       "version_major": 2,
       "version_minor": 0
      },
      "text/plain": [
       "Map(center=[9.0, 7.4], controls=(WidgetControl(options=['position', 'transparent_bg'], widget=HBox(children=(T…"
      ]
     },
     "metadata": {},
     "output_type": "display_data"
    }
   ],
   "source": [
    "# create an ee object for our 1992 image\n",
    "# note that for DMSP, there is only one band, so we dont need to worry about selecting a band.\n",
    "dmsp92 = ee.Image(dmsp92id)\n",
    "\n",
    "# initialize another map add this image as a layer to our map object\n",
    "# and call the layer: \"DMSP NTL 1992\"\n",
    "Map2 = geemap.Map(center=[center_lat,center_lon], zoom=zoomlevel)\n",
    "Map2.addLayer(dmsp92, name='DMSP NTL 1992', opacity=0.75)\n",
    "Map2"
   ]
  },
  {
   "cell_type": "code",
   "execution_count": 12,
   "id": "968449a1",
   "metadata": {},
   "outputs": [
    {
     "data": {
      "application/vnd.jupyter.widget-view+json": {
       "model_id": "fc3b75d8a1ae4c3c99674fc4e81c0c06",
       "version_major": 2,
       "version_minor": 0
      },
      "text/plain": [
       "Map(bottom=8081.0, center=[9.0, 7.4], controls=(WidgetControl(options=['position', 'transparent_bg'], widget=H…"
      ]
     },
     "metadata": {},
     "output_type": "display_data"
    }
   ],
   "source": [
    "Map2.addLayer(dmsp92.mask(dmsp92), name='DMSP NTL 1992 masked', opacity=0.75)\n",
    "Map2"
   ]
  },
  {
   "cell_type": "code",
   "execution_count": 14,
   "id": "86aa4270",
   "metadata": {},
   "outputs": [],
   "source": [
    "Map2.add_basemap('OpenTopoMap')"
   ]
  },
  {
   "cell_type": "code",
   "execution_count": 20,
   "id": "3c367498",
   "metadata": {},
   "outputs": [],
   "source": [
    "dmsp2013id = \"NOAA/DMSP-OLS/NIGHTTIME_LIGHTS/F182013\"\n",
    "dmsp2013 = ee.Image(dmsp2013id)"
   ]
  },
  {
   "cell_type": "code",
   "execution_count": null,
   "id": "d24ed622",
   "metadata": {},
   "outputs": [],
   "source": []
  },
  {
   "cell_type": "code",
   "execution_count": 21,
   "id": "73d34c31",
   "metadata": {},
   "outputs": [],
   "source": [
    "Map2.addLayer(dmsp2013, name='DMSP NTL 2013', opacity=0.75)"
   ]
  },
  {
   "cell_type": "code",
   "execution_count": 22,
   "id": "c4d25184",
   "metadata": {},
   "outputs": [
    {
     "data": {
      "application/vnd.jupyter.widget-view+json": {
       "model_id": "fc3b75d8a1ae4c3c99674fc4e81c0c06",
       "version_major": 2,
       "version_minor": 0
      },
      "text/plain": [
       "Map(bottom=8245.0, center=[5.419148251825298, 4.713134765625], controls=(WidgetControl(options=['position', 't…"
      ]
     },
     "metadata": {},
     "output_type": "display_data"
    }
   ],
   "source": [
    "Map2.addLayer(dmsp2013.mask(dmsp2013), name='DMSP NTL 2013 masked', opacity=0.75)\n",
    "Map2"
   ]
  },
  {
   "cell_type": "code",
   "execution_count": 26,
   "id": "1f44d7ec",
   "metadata": {},
   "outputs": [
    {
     "data": {
      "application/vnd.jupyter.widget-view+json": {
       "model_id": "926d05e8ad664b08a25a8b2eb596b4f4",
       "version_major": 2,
       "version_minor": 0
      },
      "text/plain": [
       "Map(center=[9.0, 7.4], controls=(ZoomControl(options=['position', 'zoom_in_text', 'zoom_in_title', 'zoom_out_t…"
      ]
     },
     "metadata": {},
     "output_type": "display_data"
    }
   ],
   "source": [
    "dmsp92_tile = geemap.ee_tile_layer(dmsp92.mask(dmsp92), name='DMSP NTL 1992 masked', opacity=0.75)\n",
    "dmsp2013_tile = geemap.ee_tile_layer(dmsp2013.mask(dmsp2013), name='DMSP NTL 2013 masked', opacity=0.75)\n",
    "\n",
    "# initial map object centered on Abuja\n",
    "Map7 = geemap.Map(center=[center_lat,center_lon], zoom=zoomlevel)\n",
    "# use .split_map function to create split panels\n",
    "Map7.split_map(left_layer=dmsp92_tile, right_layer=dmsp2013_tile)\n",
    "Map7"
   ]
  },
  {
   "cell_type": "code",
   "execution_count": null,
   "id": "fd72ea3b",
   "metadata": {},
   "outputs": [],
   "source": []
  },
  {
   "cell_type": "code",
   "execution_count": null,
   "id": "d46a4c2b",
   "metadata": {},
   "outputs": [],
   "source": []
  }
 ],
 "metadata": {
  "kernelspec": {
   "display_name": "Python 3",
   "language": "python",
   "name": "python3"
  },
  "language_info": {
   "codemirror_mode": {
    "name": "ipython",
    "version": 3
   },
   "file_extension": ".py",
   "mimetype": "text/x-python",
   "name": "python",
   "nbconvert_exporter": "python",
   "pygments_lexer": "ipython3",
   "version": "3.8.13"
  },
  "toc": {
   "base_numbering": 1,
   "nav_menu": {},
   "number_sections": true,
   "sideBar": true,
   "skip_h1_title": false,
   "title_cell": "Table of Contents",
   "title_sidebar": "Contents",
   "toc_cell": false,
   "toc_position": {},
   "toc_section_display": true,
   "toc_window_display": false
  }
 },
 "nbformat": 4,
 "nbformat_minor": 5
}
